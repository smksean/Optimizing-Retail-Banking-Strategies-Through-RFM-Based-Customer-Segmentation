{
 "cells": [
  {
   "cell_type": "code",
   "execution_count": 1,
   "id": "e6bce873-550b-46e4-9f1f-057db315c8dd",
   "metadata": {},
   "outputs": [],
   "source": [
    "# Import essential libraries\n",
    "import pandas as pd                # for data manipulation\n",
    "import numpy as np                 # for numerical operations\n",
    "import matplotlib.pyplot as plt    # for data visualization\n",
    "import seaborn as sns              # for statistical graphics\n",
    "import datetime as dt              # for date handling\n",
    "import warnings                    # to suppress warnings\n",
    "warnings.filterwarnings(\"ignore\")\n"
   ]
  },
  {
   "cell_type": "code",
   "execution_count": null,
   "id": "825da61d-1417-4f7b-bade-a1ee767b8338",
   "metadata": {},
   "outputs": [],
   "source": [
    "## Data"
   ]
  }
 ],
 "metadata": {
  "kernelspec": {
   "display_name": "Python 3 (ipykernel)",
   "language": "python",
   "name": "python3"
  },
  "language_info": {
   "codemirror_mode": {
    "name": "ipython",
    "version": 3
   },
   "file_extension": ".py",
   "mimetype": "text/x-python",
   "name": "python",
   "nbconvert_exporter": "python",
   "pygments_lexer": "ipython3",
   "version": "3.10.15"
  }
 },
 "nbformat": 4,
 "nbformat_minor": 5
}
